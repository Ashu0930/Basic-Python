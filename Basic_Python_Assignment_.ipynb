{
  "nbformat": 4,
  "nbformat_minor": 0,
  "metadata": {
    "colab": {
      "provenance": []
    },
    "kernelspec": {
      "name": "python3",
      "display_name": "Python 3"
    },
    "language_info": {
      "name": "python"
    }
  },
  "cells": [
    {
      "cell_type": "markdown",
      "source": [
        "# **Basic Python**"
      ],
      "metadata": {
        "id": "gcSTEvWqjJ_B"
      }
    },
    {
      "cell_type": "markdown",
      "source": [
        "1. What is Python, and why is it popular?\n",
        "    \n",
        "    -> Python is a programming language. It's popular because it's easy to learn, versatile and flexible. Also Python's syntax is clean, readable, and emphasizes code readability making it an ideal language.\n",
        "\n",
        " 2. What is an interpreter in Python?\n",
        "    \n",
        "    -> An interpreter is type of a program which executes instructions written in a programming language. in python it reads the source code line by line, translating each part into executable instructions.\n",
        "\n",
        " 3. What are pre-defined keywords in Python?\n",
        "    \n",
        "    -> Keywords are reserved words in Python. It's case-sensitive and cannot be redefined or overridden within a Python program.Some examples of keywords are def, class, import, if, else, while, for etc.\n",
        "\n",
        " 4. Can keywords be used as variable names?  \n",
        "    \n",
        "    -> No, Keywords are reserved words and it has special meanings in python. It' can't be used as variable name.\n",
        "\n",
        " 5. What is mutability in Python?\n",
        "    \n",
        "    -> An object or container whose state and value can be changed after they are created called mutable objects. It also called item assignment. List is an example of mutability.\n",
        "\n",
        " 6. Why are lists mutable, but tuples are immutable?\n",
        "    \n",
        "    -> List is mutble because we can make any changes in list after creation but in tuples we can't hence tuples is immutable.\n",
        "\n",
        " 7. What is the difference between “==” and “is” operators in Python?\n",
        "\n",
        "    -> There is some differenecs\n",
        "    \n",
        "    a) The '==' is referred to as the equality operator and 'is' is termed as the identity operator.\n",
        "    \n",
        "    b) The '==' operator is used to compare the equality of objects but 'is' operator is used to check if different variables are pointing to the same object in memory.\n",
        "\n",
        " 8. What are logical operators in Python?\n",
        "\n",
        "    -> Logical operators are used to combine conditional statements. Ex: and, or, not .\n",
        "\n",
        "    a) and operator returns True if both statements are true.\n",
        "    b) or opertaor returns True if one of the statements is true.\n",
        "    c) not opertor reverse the result, returns False if the result is true.\n",
        "\n",
        " 9. What is type casting in Python?\n",
        "\n",
        "    -> Type casting is the process of changing the datatype of a value or object. We use type casting because While executing/using operators, there can be mismatch bitwin the data type.\n",
        "    Example:\n",
        "    # without type casting method\n",
        "        Input:\n",
        "              a = \"2\"\n",
        "              b = 3\n",
        "              a + b\n",
        "        Output: Throw error.\n",
        " # With typecasting method\n",
        "        Input:\n",
        "              a = \"2\"\n",
        "              b = 3\n",
        "              int(a) + b\n",
        "        Output: 5\n",
        "     \n",
        " 10. What is the difference between implicit and explicit type casting?        \n",
        "\n",
        "    -> In implicit type casting, python automatically converts data from one type to another if needed. For example if we want to change int into float then python automatically change the type. In explicit type we needs to explicitly specify the conversion using casting operators or functions.\n",
        "\n",
        " 11. What is the purpose of conditional statements in Python?\n",
        "\n",
        "    -> Conditional statements allow us to control the flow of our program based on conditions that we specify. They provide a way to make decisions in our program and execute different code based on those decisions.\n",
        "\n",
        " 12. How does the elif statement work?\n",
        "\n",
        "    -> We used elif statement when the first if statement isn't true, but you want to check for another condition. Example:\n",
        "\n",
        "    Input:\n",
        "        # Defined Variables\n",
        "        room = \"bed\"\n",
        "        area = 14.0\n",
        "\n",
        "        # if-elif-else construct for room\n",
        "        if room == \"kit\":\n",
        "          print(\"Looking around in the kitchen.\")\n",
        "            elif room == \"bed\":\n",
        "            print(\"Looking around in the bedroom.\")\n",
        "        else:\n",
        "        print(\"Looking around elsewhere.\")\n",
        "\n",
        "        # if-elif-else construct for area\n",
        "        if area > 15:\n",
        "          print(\"Big place!\")\n",
        "        else:\n",
        "        print(\"Pretty small.\")\n",
        "       \n",
        "    Output:\n",
        "        Looking around in the bedroom. Pretty small.\n",
        "\n",
        " 13. What is the difference between for and while loops?\n",
        "\n",
        "    -> The for loop is used when you know in advance how many times you want to execute the block of code. The while loop is used when you don't know in advance how many times you want to execute the block of code. It continues to execute as long as the specified condition is true.\n",
        "\n",
        " 14. Describe a scenario where a while loop is more suitable than a for loop?\n",
        "\n",
        "    -> A while loop is particularly useful when you do not know beforehand how many times you want to repeat the execution of your code. It will keep executing as long as a specified condition is true. This makes it ideal for cases where you want to continue looping until specific criteria are met.\n",
        "\n",
        "\n",
        "\n"
      ],
      "metadata": {
        "id": "NTWI38dki5HZ"
      }
    },
    {
      "cell_type": "markdown",
      "source": [
        "# **Basic python Practical Question**\n"
      ],
      "metadata": {
        "id": "j3IJcbw85u5b"
      }
    },
    {
      "cell_type": "markdown",
      "source": [
        "# 1. Write a Python program to print \"Hello, World!"
      ],
      "metadata": {
        "id": "DCKQlhcu54u4"
      }
    },
    {
      "cell_type": "code",
      "execution_count": null,
      "metadata": {
        "colab": {
          "base_uri": "https://localhost:8080/"
        },
        "id": "bIwEcktu5d00",
        "outputId": "179a721b-e305-462b-998d-d237847a01d4"
      },
      "outputs": [
        {
          "output_type": "stream",
          "name": "stdout",
          "text": [
            "Hello world\n"
          ]
        }
      ],
      "source": [
        "print (\"Hello world\")"
      ]
    },
    {
      "cell_type": "markdown",
      "source": [
        "# 2. Write a Python program that displays your name and age."
      ],
      "metadata": {
        "id": "3-caOBYd6R31"
      }
    },
    {
      "cell_type": "code",
      "source": [
        "Name = input(\"Enter your name: \")\n",
        "Age = int (input(\"Enter your age: \"))\n",
        "\n",
        "print (\"My name is \" + Name + \", and I am \" + str(Age) + \" years old\")"
      ],
      "metadata": {
        "colab": {
          "base_uri": "https://localhost:8080/"
        },
        "id": "DDbnH7vP6FVQ",
        "outputId": "e9c4908f-c9b9-4935-8489-5beb860bf72f"
      },
      "execution_count": null,
      "outputs": [
        {
          "output_type": "stream",
          "name": "stdout",
          "text": [
            "Enter your name: Aman\n",
            "Enter your age: 27\n",
            "My name is Aman, and I am 27 years old\n"
          ]
        }
      ]
    },
    {
      "cell_type": "markdown",
      "source": [
        "# 3. Write code to print all the pre-defined keywords in Python using the keyword library."
      ],
      "metadata": {
        "id": "Xi78NToP9nuk"
      }
    },
    {
      "cell_type": "code",
      "source": [
        "# help(\"keywords\")\n",
        "\n",
        "import keyword\n",
        "\n",
        "keywords = keyword.kwlist       #  directly gives us a list of all the keywords in Python. Python provide a of list called kwlist.\n",
        "\n",
        "print(\"Python Keywords:\")\n",
        "for word in keywords: #use for loop to print keywod in list.\n",
        "    print(word)"
      ],
      "metadata": {
        "colab": {
          "base_uri": "https://localhost:8080/"
        },
        "id": "talWA_kH7kIG",
        "outputId": "32d52c30-a7f7-4a01-f5fa-458af4897b99"
      },
      "execution_count": null,
      "outputs": [
        {
          "output_type": "stream",
          "name": "stdout",
          "text": [
            "Python Keywords:\n",
            "False\n",
            "None\n",
            "True\n",
            "and\n",
            "as\n",
            "assert\n",
            "async\n",
            "await\n",
            "break\n",
            "class\n",
            "continue\n",
            "def\n",
            "del\n",
            "elif\n",
            "else\n",
            "except\n",
            "finally\n",
            "for\n",
            "from\n",
            "global\n",
            "if\n",
            "import\n",
            "in\n",
            "is\n",
            "lambda\n",
            "nonlocal\n",
            "not\n",
            "or\n",
            "pass\n",
            "raise\n",
            "return\n",
            "try\n",
            "while\n",
            "with\n",
            "yield\n"
          ]
        }
      ]
    },
    {
      "cell_type": "markdown",
      "source": [
        "# 4.  Write a program that checks if a given word is a Python keyword."
      ],
      "metadata": {
        "id": "pSL98Q91-HXU"
      }
    },
    {
      "cell_type": "code",
      "source": [
        "# We manually added the Python keywords in the python_keywords list.\n",
        "\n",
        "python_keywords = ['False', 'None', 'True', 'and', 'as', 'assert', 'async', 'await', 'break', 'class', 'continue', 'def', 'del', 'elif', 'else', 'except', 'finally', 'for', 'from', 'global', 'if', 'import', 'in', 'is', 'lambda', 'nonlocal', 'not', 'or', 'pass', 'raise', 'return', 'try', 'while', 'with', 'yield']\n",
        "\n",
        "word = input(\"Enter a word: \")\n",
        "\n",
        "# Check Condition\n",
        "\n",
        "if word in python_keywords:\n",
        "    print(f\"'{word}' is a Python keyword.\")\n",
        "else:\n",
        "    print(f\"'{word}' is not a Python keyword.\")"
      ],
      "metadata": {
        "colab": {
          "base_uri": "https://localhost:8080/"
        },
        "id": "5jEkcuQM-FxK",
        "outputId": "49843aa2-d312-4c97-8c35-5bced4bf10fe"
      },
      "execution_count": null,
      "outputs": [
        {
          "output_type": "stream",
          "name": "stdout",
          "text": [
            "Enter a word: class\n",
            "'class' is a Python keyword.\n"
          ]
        }
      ]
    },
    {
      "cell_type": "markdown",
      "source": [
        "# 5. Create a list and tuple in Python, and demonstrate how attempting to change an element works differently."
      ],
      "metadata": {
        "id": "x0MOOOVlB8ls"
      }
    },
    {
      "cell_type": "code",
      "source": [
        "''' There is multiple way to make changes in list'''"
      ],
      "metadata": {
        "id": "ocbD37BJQ6-3"
      },
      "execution_count": null,
      "outputs": []
    },
    {
      "cell_type": "code",
      "source": [
        "# Creating list and touple\n",
        "\n",
        "list_a = [10 , 15, 20.5, \"Aman\"]\n",
        "touple_a = (20 , 25 , 35.5, \"Sharma\")\n",
        "\n",
        "# We can modify list in many ways.\n",
        "\n",
        "# using its index\n",
        "list_a[2] = 50\n",
        "list_a"
      ],
      "metadata": {
        "id": "9CduXl2d_tyT",
        "colab": {
          "base_uri": "https://localhost:8080/"
        },
        "outputId": "b8015708-9279-4615-9518-245107d42ea9"
      },
      "execution_count": null,
      "outputs": [
        {
          "output_type": "execute_result",
          "data": {
            "text/plain": [
              "[10, 15, 50, 'Aman']"
            ]
          },
          "metadata": {},
          "execution_count": 36
        }
      ]
    },
    {
      "cell_type": "code",
      "source": [
        "# using append we can add any element in end of the list\n",
        "list_a.append(\"Data Science\")\n",
        "list_a"
      ],
      "metadata": {
        "colab": {
          "base_uri": "https://localhost:8080/"
        },
        "id": "Xa_4bb65Lrc8",
        "outputId": "dd169800-8ed2-4e2f-ddb5-5283a5da0b8b"
      },
      "execution_count": null,
      "outputs": [
        {
          "output_type": "execute_result",
          "data": {
            "text/plain": [
              "[10, 15, 50, 'Aman', 'Data Science']"
            ]
          },
          "metadata": {},
          "execution_count": 37
        }
      ]
    },
    {
      "cell_type": "code",
      "source": [
        "# We can insert an element at a specific index\n",
        "list_a.insert(1, \"student\")\n",
        "list_a"
      ],
      "metadata": {
        "colab": {
          "base_uri": "https://localhost:8080/"
        },
        "id": "yB0rVwagOK80",
        "outputId": "a6b6c90a-c20d-4a5f-974c-09d2c34db28c"
      },
      "execution_count": null,
      "outputs": [
        {
          "output_type": "execute_result",
          "data": {
            "text/plain": [
              "[10, 'student', 15, 50, 'Aman', 'Data Science']"
            ]
          },
          "metadata": {},
          "execution_count": 39
        }
      ]
    },
    {
      "cell_type": "code",
      "source": [
        "# We can remove all elements from the list.\n",
        "\n",
        "list_a.clear()\n",
        "list_a\n"
      ],
      "metadata": {
        "colab": {
          "base_uri": "https://localhost:8080/"
        },
        "id": "odCz4AklOuez",
        "outputId": "777d42a6-21ab-41bf-a4ff-4c322e2bd43e"
      },
      "execution_count": null,
      "outputs": [
        {
          "output_type": "execute_result",
          "data": {
            "text/plain": [
              "[]"
            ]
          },
          "metadata": {},
          "execution_count": 40
        }
      ]
    },
    {
      "cell_type": "code",
      "source": [
        "# we can also remove specific element from the list\n",
        "\n",
        "list_student = [\"Aman\" , \"Riya\" , \"Muskan\"]\n",
        "list_student.remove(\"Muskan\")\n",
        "list_student"
      ],
      "metadata": {
        "colab": {
          "base_uri": "https://localhost:8080/"
        },
        "id": "hE-j-TOIROti",
        "outputId": "ca632a83-6548-44f6-a068-c45337726833"
      },
      "execution_count": null,
      "outputs": [
        {
          "output_type": "execute_result",
          "data": {
            "text/plain": [
              "['Aman', 'Riya']"
            ]
          },
          "metadata": {},
          "execution_count": 46
        }
      ]
    },
    {
      "cell_type": "code",
      "source": [
        "''' If we want to make changes in a tuple then we need to change touple into list\n",
        "then perform opration after that again we have to change it into tuple '''\n",
        "\n",
        "touple_student = (\"Aman\" , \"Riya\" , \"Muskan\")\n",
        "temp_touple_student = list(touple_student)\n",
        "temp_touple_student.insert(2, \"Aarya\")\n",
        "touple_student = tuple(temp_touple_student)\n",
        "touple_student"
      ],
      "metadata": {
        "colab": {
          "base_uri": "https://localhost:8080/"
        },
        "id": "OYE6y5KcSTSN",
        "outputId": "f0618b96-fc62-40c9-ffef-f24dd9eea0b8"
      },
      "execution_count": null,
      "outputs": [
        {
          "output_type": "execute_result",
          "data": {
            "text/plain": [
              "('Aman', 'Riya', 'Aarya', 'Muskan')"
            ]
          },
          "metadata": {},
          "execution_count": 52
        }
      ]
    },
    {
      "cell_type": "markdown",
      "source": [
        "# 6,7. Write a function to demonstrate the behavior of mutable and immutable arguments."
      ],
      "metadata": {
        "id": "NcROegzaIyXl"
      }
    },
    {
      "cell_type": "code",
      "source": [
        "# Creating list and touple\n",
        "\n",
        "list_a = [10 , 15, 20.5, \"Aman\"]\n",
        "tuple_a = (20 , 25 , 35.5, \"Sharma\")\n",
        "\n",
        "# If we want to chnage a element in list then we can do it because list is mutable object.\n",
        "\n",
        "list_a[2] = 50\n",
        "list_a"
      ],
      "metadata": {
        "colab": {
          "base_uri": "https://localhost:8080/"
        },
        "id": "72uO8e9zJ1m3",
        "outputId": "ad1da571-cc34-4e6c-bb8e-7bac9107185b"
      },
      "execution_count": null,
      "outputs": [
        {
          "output_type": "execute_result",
          "data": {
            "text/plain": [
              "[10, 15, 50, 'Aman']"
            ]
          },
          "metadata": {},
          "execution_count": 47
        }
      ]
    },
    {
      "cell_type": "code",
      "source": [
        "''' If we want to make changes in tuple then it will throw error becase of touple is immutable object.\n",
        "TypeError: 'tuple' object does not support item assignment'''\n",
        "\n",
        "tuple_a[1] = 50\n",
        "tuple_a"
      ],
      "metadata": {
        "colab": {
          "base_uri": "https://localhost:8080/",
          "height": 193
        },
        "id": "6JdO7bmjKoRH",
        "outputId": "deccdfa5-a5ed-4e87-8ad3-b7c00b395a7d"
      },
      "execution_count": null,
      "outputs": [
        {
          "output_type": "error",
          "ename": "TypeError",
          "evalue": "'tuple' object does not support item assignment",
          "traceback": [
            "\u001b[0;31m---------------------------------------------------------------------------\u001b[0m",
            "\u001b[0;31mTypeError\u001b[0m                                 Traceback (most recent call last)",
            "\u001b[0;32m<ipython-input-53-b1f4450a8b9d>\u001b[0m in \u001b[0;36m<cell line: 0>\u001b[0;34m()\u001b[0m\n\u001b[1;32m      2\u001b[0m TypeError: 'tuple' object does not support item assignment'''\n\u001b[1;32m      3\u001b[0m \u001b[0;34m\u001b[0m\u001b[0m\n\u001b[0;32m----> 4\u001b[0;31m \u001b[0mtuple_a\u001b[0m\u001b[0;34m[\u001b[0m\u001b[0;36m1\u001b[0m\u001b[0;34m]\u001b[0m \u001b[0;34m=\u001b[0m \u001b[0;36m50\u001b[0m\u001b[0;34m\u001b[0m\u001b[0;34m\u001b[0m\u001b[0m\n\u001b[0m\u001b[1;32m      5\u001b[0m \u001b[0mtuple_a\u001b[0m\u001b[0;34m\u001b[0m\u001b[0;34m\u001b[0m\u001b[0m\n",
            "\u001b[0;31mTypeError\u001b[0m: 'tuple' object does not support item assignment"
          ]
        }
      ]
    },
    {
      "cell_type": "markdown",
      "source": [
        "# 8. Write a program to demonstrate the use of logical operators.\n"
      ],
      "metadata": {
        "id": "IX2bKsMmWOK9"
      }
    },
    {
      "cell_type": "code",
      "source": [
        "a = True\n",
        "b = False\n",
        "\n",
        "# Using 'and' operator: both conditions must be True to return True\n",
        "print(\"Using 'and' operator:\", a and b)  # False, because b is False\n",
        "\n",
        "# Using 'or' operator: only one condition needs to be True to return True\n",
        "print(\"Using 'or' operator:\", a or b)   # True, because a is True\n",
        "\n",
        "# Using 'not' operator: reverses the condition (True becomes False and False becomes True)\n",
        "print(\"Using 'not' operator:\", not a)   # False, because a is True, and 'not' makes it False\n",
        "\n",
        "# Using 'Xor' operator: reverses the condition (True ^ True or False ^ False would give False because they are the same.)\n",
        "print(\"Using 'xor' operator:\", a^b )   # True, because a is True, and b is false."
      ],
      "metadata": {
        "colab": {
          "base_uri": "https://localhost:8080/"
        },
        "id": "tOpelxhcWgbo",
        "outputId": "afa429f1-d39d-4fa4-c538-837d65a9ef75"
      },
      "execution_count": null,
      "outputs": [
        {
          "output_type": "stream",
          "name": "stdout",
          "text": [
            "Using 'and' operator: False\n",
            "Using 'or' operator: True\n",
            "Using 'not' operator: False\n",
            "Using 'xor' operator: True\n"
          ]
        }
      ]
    },
    {
      "cell_type": "markdown",
      "source": [
        "# 9. Write a Python program to convert user input from string to integer, float, and boolean types  "
      ],
      "metadata": {
        "id": "2OqYdn1laYpa"
      }
    },
    {
      "cell_type": "code",
      "source": [
        "user_input = input(\"Enter a value: \")\n",
        "\n",
        "# Convert to integer\n",
        "try:\n",
        "    int_value = int(user_input)\n",
        "    print(f\"Converted to integer: {int_value}\")\n",
        "except ValueError:\n",
        "    print(\"Could not convert to integer.\")\n",
        "\n",
        "    # Convert to float\n",
        "try:\n",
        "    float_value = float(user_input)\n",
        "    print(f\"Converted to float: {float_value}\")\n",
        "except ValueError:\n",
        "    print(\"Could not convert to float.\")\n",
        "\n",
        "    # Convert to float\n",
        "try:\n",
        "    bool_value = bool(user_input)\n",
        "    print(f\"Converted to bool: {bool_value}\")\n",
        "except ValueError:\n",
        "    print(\"Could not convert to bool.\")\n",
        "\n",
        "\n"
      ],
      "metadata": {
        "colab": {
          "base_uri": "https://localhost:8080/"
        },
        "id": "mD3P3BmrDyoX",
        "outputId": "b7961867-7a8c-4023-a7ae-b5299bb4053e"
      },
      "execution_count": null,
      "outputs": [
        {
          "output_type": "stream",
          "name": "stdout",
          "text": [
            "Enter a value: aman\n",
            "Could not convert to integer.\n",
            "Could not convert to float.\n",
            "Converted to bool: True\n"
          ]
        }
      ]
    },
    {
      "cell_type": "markdown",
      "source": [
        "# 10 Write code to demonstrate type casting with list elements"
      ],
      "metadata": {
        "id": "CX31Pxah7R1f"
      }
    },
    {
      "cell_type": "code",
      "source": [
        "list = [\"10\" , \"20.5\" , \"false\"]\n",
        "\n",
        "list_a = int(list[0])\n",
        "list_b = float(list[1])\n",
        "list_c = bool(list[2])\n",
        "\n",
        "print(\"list is\", list)\n",
        "print(\"Integer value is: \", list_a)\n",
        "print(\"float value is: \", list_b)\n",
        "print(\"boolean value is: \", list_c)"
      ],
      "metadata": {
        "colab": {
          "base_uri": "https://localhost:8080/"
        },
        "id": "RzGR7cxs7i2u",
        "outputId": "4fa03aa9-bad8-4710-a33e-be242aef799d"
      },
      "execution_count": null,
      "outputs": [
        {
          "output_type": "stream",
          "name": "stdout",
          "text": [
            "list is ['10', '20.5', 'false']\n",
            "Integer value is:  10\n",
            "float value is:  20.5\n",
            "boolean value is:  True\n"
          ]
        }
      ]
    },
    {
      "cell_type": "markdown",
      "source": [
        "# 11. Write a program that checks if a number is positive, negative, or zero.\n"
      ],
      "metadata": {
        "id": "5nU5ed9X-ViI"
      }
    },
    {
      "cell_type": "code",
      "source": [
        "user_input = float(input(\"Enter a value: \")) # we use float() fnction because it can accept both int and float value.\n",
        "\n",
        "if user_input > 0:\n",
        "    print(\"The number is Positive\")\n",
        "\n",
        "elif user_input < 0:\n",
        "    print(\"The number is Negative\")\n",
        "\n",
        "else:\n",
        "    print(\"The nmber is Zero\")"
      ],
      "metadata": {
        "colab": {
          "base_uri": "https://localhost:8080/"
        },
        "id": "zuYxF-By9Pyd",
        "outputId": "636f6bc7-dfdd-4e15-8436-f041be7ad124"
      },
      "execution_count": null,
      "outputs": [
        {
          "output_type": "stream",
          "name": "stdout",
          "text": [
            "Enter a value: 10.5\n",
            "The number is Positive\n"
          ]
        }
      ]
    },
    {
      "cell_type": "code",
      "source": [],
      "metadata": {
        "id": "9l9tfo6v_TcQ"
      },
      "execution_count": null,
      "outputs": []
    },
    {
      "cell_type": "markdown",
      "source": [
        "# 12 Write a for loop to print numbers from 1 to 10."
      ],
      "metadata": {
        "id": "J82Gdcm5Ams2"
      }
    },
    {
      "cell_type": "code",
      "source": [
        "for a in range (1,11):\n",
        "     print(a)\n",
        "\n"
      ],
      "metadata": {
        "colab": {
          "base_uri": "https://localhost:8080/"
        },
        "id": "rW6i0nr5AzcQ",
        "outputId": "64212dac-09b9-443d-b3f5-06ef8ec5eb32"
      },
      "execution_count": null,
      "outputs": [
        {
          "output_type": "stream",
          "name": "stdout",
          "text": [
            "1\n",
            "2\n",
            "3\n",
            "4\n",
            "5\n",
            "6\n",
            "7\n",
            "8\n",
            "9\n",
            "10\n"
          ]
        }
      ]
    },
    {
      "cell_type": "markdown",
      "source": [
        "# 13 Write a Python program to find the sum of all even numbers between 1 and 50."
      ],
      "metadata": {
        "id": "yCJX7dA4B3yU"
      }
    },
    {
      "cell_type": "code",
      "source": [
        "sum = 0\n",
        "\n",
        "for a in range(1 , 51):\n",
        "    if a % 2 == 0:\n",
        "      sum = sum + a\n",
        "print(sum)\n"
      ],
      "metadata": {
        "colab": {
          "base_uri": "https://localhost:8080/"
        },
        "id": "dj4K3HtrB2HD",
        "outputId": "011047f2-0153-4bed-c9da-33b3b6878faf"
      },
      "execution_count": null,
      "outputs": [
        {
          "output_type": "stream",
          "name": "stdout",
          "text": [
            "650\n"
          ]
        }
      ]
    },
    {
      "cell_type": "markdown",
      "source": [
        "# 14 Write a program to reverse a string using a while loop."
      ],
      "metadata": {
        "id": "HB7mKwJHF9m0"
      }
    },
    {
      "cell_type": "code",
      "source": [
        "input_s = input(\"Enter string: \")\n",
        "j = \"\"\n",
        "i = len(input_s) - 1\n",
        "\n",
        "while i >= 0 :\n",
        "  j = j + input_s[i]\n",
        "  i = i-1\n",
        "\n",
        "print(j)\n",
        "\n"
      ],
      "metadata": {
        "colab": {
          "base_uri": "https://localhost:8080/"
        },
        "id": "hMbXxE5b5axj",
        "outputId": "6f40c83b-1f77-4f78-917c-c2a946dfc305"
      },
      "execution_count": null,
      "outputs": [
        {
          "output_type": "stream",
          "name": "stdout",
          "text": [
            "Enter string: riya\n",
            "ayir\n"
          ]
        }
      ]
    },
    {
      "cell_type": "markdown",
      "source": [
        "# 15 Write a Python program to calculate the factorial of a number provided by the user using a while loop.\n"
      ],
      "metadata": {
        "id": "Poht9pAs-5Ai"
      }
    },
    {
      "cell_type": "code",
      "source": [
        "input_s = int(input(\"Enter number: \"))\n",
        "j = 1\n",
        "\n",
        "while input_s > 0 :\n",
        "  j = j * input_s\n",
        "  input_s = input_s - 1\n",
        "print(\" Total of Factorial \", j)"
      ],
      "metadata": {
        "colab": {
          "base_uri": "https://localhost:8080/"
        },
        "id": "RSTocmx391f3",
        "outputId": "4dc9800b-fafb-41dc-a634-aa5722fb27b5"
      },
      "execution_count": null,
      "outputs": [
        {
          "output_type": "stream",
          "name": "stdout",
          "text": [
            "Enter number: 5\n",
            " Total of Factorial  120\n"
          ]
        }
      ]
    },
    {
      "cell_type": "markdown",
      "source": [],
      "metadata": {
        "id": "SOw0XLPQdc0Q"
      }
    }
  ]
}